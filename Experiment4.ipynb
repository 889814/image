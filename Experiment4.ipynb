{
  "nbformat": 4,
  "nbformat_minor": 0,
  "metadata": {
    "colab": {
      "provenance": []
    },
    "kernelspec": {
      "name": "python3",
      "display_name": "Python 3"
    },
    "language_info": {
      "name": "python"
    }
  },
  "cells": [
    {
      "cell_type": "markdown",
      "source": [
        "Name: Apeksha Hrishikesh Sharma\n",
        "\n",
        "Roll no.: L010\n",
        "\n",
        "SAP id.: 40778230013\n",
        "\n",
        "# Experiment 4: Basic geometric Operations using OpenCV\n",
        "**Aim:**\n",
        "\n",
        "To Basic geometric Operations on an image."
      ],
      "metadata": {
        "id": "VilwBKcDUxMz"
      }
    },
    {
      "cell_type": "code",
      "execution_count": null,
      "metadata": {
        "id": "BE5p8a6LL5h6"
      },
      "outputs": [],
      "source": [
        "import cv2\n",
        "import numpy as np\n",
        "from google.colab.patches import cv2_imshow"
      ]
    },
    {
      "cell_type": "code",
      "source": [
        "# Create a black and white image (black image of size 500x500)\n",
        "image = np.zeros((512, 512, 3), np.uint8)\n",
        "cv2_imshow(image)"
      ],
      "metadata": {
        "id": "t4hIdE1r3X8J",
        "colab": {
          "base_uri": "https://localhost:8080/",
          "height": 529
        },
        "outputId": "e45303dd-13af-421e-f71e-5ec36d7cbfd5"
      },
      "execution_count": null,
      "outputs": [
        {
          "output_type": "display_data",
          "data": {
            "text/plain": [
              "<PIL.Image.Image image mode=RGB size=512x512>"
            ],
            "image/png": "[encoded data removed]"
          },
          "metadata": {}
        }
      ]
    },
    {
      "cell_type": "code",
      "source": [
        "# Draw a line from (0,0) to (500,500) with white color and thickness of 5\n",
        "image = np.zeros((512, 512, 3), np.uint8)\n",
        "cv2.line(image, (0, 10), (500, 500), (255, 255, 255), 5)\n",
        "cv2_imshow(image)"
      ],
      "metadata": {
        "colab": {
          "base_uri": "https://localhost:8080/",
          "height": 529
        },
        "id": "7HZGdzvw-6TR",
        "outputId": "bb19a27f-3cc1-4ab2-cb71-f4abe23a6d01"
      },
      "execution_count": null,
      "outputs": [
        {
          "output_type": "display_data",
          "data": {
            "text/plain": [
              "<PIL.Image.Image image mode=RGB size=512x512>"
            ],
            "image/png": "[encoded data removed]"
          },
          "metadata": {}
        }
      ]
    },
    {
      "cell_type": "code",
      "source": [
        "# Draw an arrowed line from (500,0) to (0,500) with white color and thickness of 5\n",
        "image = np.zeros((500, 500, 3), dtype=\"uint8\")\n",
        "cv2.arrowedLine(image, (500, 0), (150, 490), (255, 255, 255), 15)"
      ],
      "metadata": {
        "colab": {
          "base_uri": "https://localhost:8080/",
          "height": 541
        },
        "id": "IV6U0NoL--xJ",
        "outputId": "65408d12-ec50-4bfa-ec9c-7d121240f363"
      },
      "execution_count": null,
      "outputs": [
        {
          "output_type": "execute_result",
          "data": {
            "text/plain": [
              "array([[[  0,   0,   0],\n",
              "        [  0,   0,   0],\n",
              "        [  0,   0,   0],\n",
              "        ...,\n",
              "        [255, 255, 255],\n",
              "        [255, 255, 255],\n",
              "        [255, 255, 255]],\n",
              "\n",
              "       [[  0,   0,   0],\n",
              "        [  0,   0,   0],\n",
              "        [  0,   0,   0],\n",
              "        ...,\n",
              "        [255, 255, 255],\n",
              "        [255, 255, 255],\n",
              "        [255, 255, 255]],\n",
              "\n",
              "       [[  0,   0,   0],\n",
              "        [  0,   0,   0],\n",
              "        [  0,   0,   0],\n",
              "        ...,\n",
              "        [255, 255, 255],\n",
              "        [255, 255, 255],\n",
              "        [255, 255, 255]],\n",
              "\n",
              "       ...,\n",
              "\n",
              "       [[  0,   0,   0],\n",
              "        [  0,   0,   0],\n",
              "        [  0,   0,   0],\n",
              "        ...,\n",
              "        [  0,   0,   0],\n",
              "        [  0,   0,   0],\n",
              "        [  0,   0,   0]],\n",
              "\n",
              "       [[  0,   0,   0],\n",
              "        [  0,   0,   0],\n",
              "        [  0,   0,   0],\n",
              "        ...,\n",
              "        [  0,   0,   0],\n",
              "        [  0,   0,   0],\n",
              "        [  0,   0,   0]],\n",
              "\n",
              "       [[  0,   0,   0],\n",
              "        [  0,   0,   0],\n",
              "        [  0,   0,   0],\n",
              "        ...,\n",
              "        [  0,   0,   0],\n",
              "        [  0,   0,   0],\n",
              "        [  0,   0,   0]]], dtype=uint8)"
            ],
            "text/html": [
              "<style>\n",
              "      .ndarray_repr .ndarray_raw_data {\n",
              "        display: none;\n",
              "      }\n",
              "      .ndarray_repr.show_array .ndarray_raw_data {\n",
              "        display: block;\n",
              "      }\n",
              "      .ndarray_repr.show_array .ndarray_image_preview {\n",
              "        display: none;\n",
              "      }\n",
              "      </style>\n",
              "      <div id=\"id-42278e04-1768-4f5f-a467-84485f9e37e3\" class=\"ndarray_repr\"><pre>ndarray (500, 500, 3) <button style=\"padding: 0 2px;\">show data</button></pre><img src=\"data:image/png;base64,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\" class=\"ndarray_image_preview\" /><pre class=\"ndarray_raw_data\">array([[[  0,   0,   0],\n",
              "        [  0,   0,   0],\n",
              "        [  0,   0,   0],\n",
              "        ...,\n",
              "        [255, 255, 255],\n",
              "        [255, 255, 255],\n",
              "        [255, 255, 255]],\n",
              "\n",
              "       [[  0,   0,   0],\n",
              "        [  0,   0,   0],\n",
              "        [  0,   0,   0],\n",
              "        ...,\n",
              "        [255, 255, 255],\n",
              "        [255, 255, 255],\n",
              "        [255, 255, 255]],\n",
              "\n",
              "       [[  0,   0,   0],\n",
              "        [  0,   0,   0],\n",
              "        [  0,   0,   0],\n",
              "        ...,\n",
              "        [255, 255, 255],\n",
              "        [255, 255, 255],\n",
              "        [255, 255, 255]],\n",
              "\n",
              "       ...,\n",
              "\n",
              "       [[  0,   0,   0],\n",
              "        [  0,   0,   0],\n",
              "        [  0,   0,   0],\n",
              "        ...,\n",
              "        [  0,   0,   0],\n",
              "        [  0,   0,   0],\n",
              "        [  0,   0,   0]],\n",
              "\n",
              "       [[  0,   0,   0],\n",
              "        [  0,   0,   0],\n",
              "        [  0,   0,   0],\n",
              "        ...,\n",
              "        [  0,   0,   0],\n",
              "        [  0,   0,   0],\n",
              "        [  0,   0,   0]],\n",
              "\n",
              "       [[  0,   0,   0],\n",
              "        [  0,   0,   0],\n",
              "        [  0,   0,   0],\n",
              "        ...,\n",
              "        [  0,   0,   0],\n",
              "        [  0,   0,   0],\n",
              "        [  0,   0,   0]]], dtype=uint8)</pre></div><script>\n",
              "      (() => {\n",
              "      const titles = ['show data', 'hide data'];\n",
              "      let index = 0\n",
              "      document.querySelector('#id-42278e04-1768-4f5f-a467-84485f9e37e3 button').onclick = (e) => {\n",
              "        document.querySelector('#id-42278e04-1768-4f5f-a467-84485f9e37e3').classList.toggle('show_array');\n",
              "        index = (++index) % 2;\n",
              "        document.querySelector('#id-42278e04-1768-4f5f-a467-84485f9e37e3 button').textContent = titles[index];\n",
              "        e.preventDefault();\n",
              "        e.stopPropagation();\n",
              "      }\n",
              "      })();\n",
              "    </script>"
            ]
          },
          "metadata": {},
          "execution_count": 12
        }
      ]
    },
    {
      "cell_type": "code",
      "source": [
        "# Draw a rectangle from top-left corner (100,100) to bottom-right corner (400,400) with white color and thickness of 5\n",
        "image = np.zeros((500, 500, 3), dtype=\"uint8\")\n",
        "cv2.rectangle(image, (100, 50), (400, 450), (255, 255, 255), -1)"
      ],
      "metadata": {
        "colab": {
          "base_uri": "https://localhost:8080/",
          "height": 541
        },
        "id": "PgPvjNYF_CBo",
        "outputId": "afb2a5d8-20a1-4761-ec2d-acb61e863827"
      },
      "execution_count": null,
      "outputs": [
        {
          "output_type": "execute_result",
          "data": {
            "text/plain": [
              "array([[[0, 0, 0],\n",
              "        [0, 0, 0],\n",
              "        [0, 0, 0],\n",
              "        ...,\n",
              "        [0, 0, 0],\n",
              "        [0, 0, 0],\n",
              "        [0, 0, 0]],\n",
              "\n",
              "       [[0, 0, 0],\n",
              "        [0, 0, 0],\n",
              "        [0, 0, 0],\n",
              "        ...,\n",
              "        [0, 0, 0],\n",
              "        [0, 0, 0],\n",
              "        [0, 0, 0]],\n",
              "\n",
              "       [[0, 0, 0],\n",
              "        [0, 0, 0],\n",
              "        [0, 0, 0],\n",
              "        ...,\n",
              "        [0, 0, 0],\n",
              "        [0, 0, 0],\n",
              "        [0, 0, 0]],\n",
              "\n",
              "       ...,\n",
              "\n",
              "       [[0, 0, 0],\n",
              "        [0, 0, 0],\n",
              "        [0, 0, 0],\n",
              "        ...,\n",
              "        [0, 0, 0],\n",
              "        [0, 0, 0],\n",
              "        [0, 0, 0]],\n",
              "\n",
              "       [[0, 0, 0],\n",
              "        [0, 0, 0],\n",
              "        [0, 0, 0],\n",
              "        ...,\n",
              "        [0, 0, 0],\n",
              "        [0, 0, 0],\n",
              "        [0, 0, 0]],\n",
              "\n",
              "       [[0, 0, 0],\n",
              "        [0, 0, 0],\n",
              "        [0, 0, 0],\n",
              "        ...,\n",
              "        [0, 0, 0],\n",
              "        [0, 0, 0],\n",
              "        [0, 0, 0]]], dtype=uint8)"
            ],
            "text/html": [
              "<style>\n",
              "      .ndarray_repr .ndarray_raw_data {\n",
              "        display: none;\n",
              "      }\n",
              "      .ndarray_repr.show_array .ndarray_raw_data {\n",
              "        display: block;\n",
              "      }\n",
              "      .ndarray_repr.show_array .ndarray_image_preview {\n",
              "        display: none;\n",
              "      }\n",
              "      </style>\n",
              "      <div id=\"id-e8ec0349-c681-4213-9c20-cae4d2dff025\" class=\"ndarray_repr\"><pre>ndarray (500, 500, 3) <button style=\"padding: 0 2px;\">show data</button></pre><img src=\"data:image/png;base64,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\" class=\"ndarray_image_preview\" /><pre class=\"ndarray_raw_data\">array([[[0, 0, 0],\n",
              "        [0, 0, 0],\n",
              "        [0, 0, 0],\n",
              "        ...,\n",
              "        [0, 0, 0],\n",
              "        [0, 0, 0],\n",
              "        [0, 0, 0]],\n",
              "\n",
              "       [[0, 0, 0],\n",
              "        [0, 0, 0],\n",
              "        [0, 0, 0],\n",
              "        ...,\n",
              "        [0, 0, 0],\n",
              "        [0, 0, 0],\n",
              "        [0, 0, 0]],\n",
              "\n",
              "       [[0, 0, 0],\n",
              "        [0, 0, 0],\n",
              "        [0, 0, 0],\n",
              "        ...,\n",
              "        [0, 0, 0],\n",
              "        [0, 0, 0],\n",
              "        [0, 0, 0]],\n",
              "\n",
              "       ...,\n",
              "\n",
              "       [[0, 0, 0],\n",
              "        [0, 0, 0],\n",
              "        [0, 0, 0],\n",
              "        ...,\n",
              "        [0, 0, 0],\n",
              "        [0, 0, 0],\n",
              "        [0, 0, 0]],\n",
              "\n",
              "       [[0, 0, 0],\n",
              "        [0, 0, 0],\n",
              "        [0, 0, 0],\n",
              "        ...,\n",
              "        [0, 0, 0],\n",
              "        [0, 0, 0],\n",
              "        [0, 0, 0]],\n",
              "\n",
              "       [[0, 0, 0],\n",
              "        [0, 0, 0],\n",
              "        [0, 0, 0],\n",
              "        ...,\n",
              "        [0, 0, 0],\n",
              "        [0, 0, 0],\n",
              "        [0, 0, 0]]], dtype=uint8)</pre></div><script>\n",
              "      (() => {\n",
              "      const titles = ['show data', 'hide data'];\n",
              "      let index = 0\n",
              "      document.querySelector('#id-e8ec0349-c681-4213-9c20-cae4d2dff025 button').onclick = (e) => {\n",
              "        document.querySelector('#id-e8ec0349-c681-4213-9c20-cae4d2dff025').classList.toggle('show_array');\n",
              "        index = (++index) % 2;\n",
              "        document.querySelector('#id-e8ec0349-c681-4213-9c20-cae4d2dff025 button').textContent = titles[index];\n",
              "        e.preventDefault();\n",
              "        e.stopPropagation();\n",
              "      }\n",
              "      })();\n",
              "    </script>"
            ]
          },
          "metadata": {},
          "execution_count": 16
        }
      ]
    },
    {
      "cell_type": "code",
      "source": [
        "# Draw a circle at center (250,250) with radius 100 with white color and thickness of 5\n",
        "image = np.zeros((500, 500, 3), dtype=\"uint8\")\n",
        "cv2.circle(image, (250, 250), 100, (255, 255, 255), 5)"
      ],
      "metadata": {
        "colab": {
          "base_uri": "https://localhost:8080/",
          "height": 541
        },
        "id": "KozMnseq_DTp",
        "outputId": "49a7d0a5-485a-4868-a120-4e7ab140e175"
      },
      "execution_count": null,
      "outputs": [
        {
          "output_type": "execute_result",
          "data": {
            "text/plain": [
              "array([[[0, 0, 0],\n",
              "        [0, 0, 0],\n",
              "        [0, 0, 0],\n",
              "        ...,\n",
              "        [0, 0, 0],\n",
              "        [0, 0, 0],\n",
              "        [0, 0, 0]],\n",
              "\n",
              "       [[0, 0, 0],\n",
              "        [0, 0, 0],\n",
              "        [0, 0, 0],\n",
              "        ...,\n",
              "        [0, 0, 0],\n",
              "        [0, 0, 0],\n",
              "        [0, 0, 0]],\n",
              "\n",
              "       [[0, 0, 0],\n",
              "        [0, 0, 0],\n",
              "        [0, 0, 0],\n",
              "        ...,\n",
              "        [0, 0, 0],\n",
              "        [0, 0, 0],\n",
              "        [0, 0, 0]],\n",
              "\n",
              "       ...,\n",
              "\n",
              "       [[0, 0, 0],\n",
              "        [0, 0, 0],\n",
              "        [0, 0, 0],\n",
              "        ...,\n",
              "        [0, 0, 0],\n",
              "        [0, 0, 0],\n",
              "        [0, 0, 0]],\n",
              "\n",
              "       [[0, 0, 0],\n",
              "        [0, 0, 0],\n",
              "        [0, 0, 0],\n",
              "        ...,\n",
              "        [0, 0, 0],\n",
              "        [0, 0, 0],\n",
              "        [0, 0, 0]],\n",
              "\n",
              "       [[0, 0, 0],\n",
              "        [0, 0, 0],\n",
              "        [0, 0, 0],\n",
              "        ...,\n",
              "        [0, 0, 0],\n",
              "        [0, 0, 0],\n",
              "        [0, 0, 0]]], dtype=uint8)"
            ],
            "text/html": [
              "<style>\n",
              "      .ndarray_repr .ndarray_raw_data {\n",
              "        display: none;\n",
              "      }\n",
              "      .ndarray_repr.show_array .ndarray_raw_data {\n",
              "        display: block;\n",
              "      }\n",
              "      .ndarray_repr.show_array .ndarray_image_preview {\n",
              "        display: none;\n",
              "      }\n",
              "      </style>\n",
              "      <div id=\"id-b983b21b-2582-4f2e-9a65-ed9a3472affc\" class=\"ndarray_repr\"><pre>ndarray (500, 500, 3) <button style=\"padding: 0 2px;\">show data</button></pre><img src=\"data:image/png;base64,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\" class=\"ndarray_image_preview\" /><pre class=\"ndarray_raw_data\">array([[[0, 0, 0],\n",
              "        [0, 0, 0],\n",
              "        [0, 0, 0],\n",
              "        ...,\n",
              "        [0, 0, 0],\n",
              "        [0, 0, 0],\n",
              "        [0, 0, 0]],\n",
              "\n",
              "       [[0, 0, 0],\n",
              "        [0, 0, 0],\n",
              "        [0, 0, 0],\n",
              "        ...,\n",
              "        [0, 0, 0],\n",
              "        [0, 0, 0],\n",
              "        [0, 0, 0]],\n",
              "\n",
              "       [[0, 0, 0],\n",
              "        [0, 0, 0],\n",
              "        [0, 0, 0],\n",
              "        ...,\n",
              "        [0, 0, 0],\n",
              "        [0, 0, 0],\n",
              "        [0, 0, 0]],\n",
              "\n",
              "       ...,\n",
              "\n",
              "       [[0, 0, 0],\n",
              "        [0, 0, 0],\n",
              "        [0, 0, 0],\n",
              "        ...,\n",
              "        [0, 0, 0],\n",
              "        [0, 0, 0],\n",
              "        [0, 0, 0]],\n",
              "\n",
              "       [[0, 0, 0],\n",
              "        [0, 0, 0],\n",
              "        [0, 0, 0],\n",
              "        ...,\n",
              "        [0, 0, 0],\n",
              "        [0, 0, 0],\n",
              "        [0, 0, 0]],\n",
              "\n",
              "       [[0, 0, 0],\n",
              "        [0, 0, 0],\n",
              "        [0, 0, 0],\n",
              "        ...,\n",
              "        [0, 0, 0],\n",
              "        [0, 0, 0],\n",
              "        [0, 0, 0]]], dtype=uint8)</pre></div><script>\n",
              "      (() => {\n",
              "      const titles = ['show data', 'hide data'];\n",
              "      let index = 0\n",
              "      document.querySelector('#id-b983b21b-2582-4f2e-9a65-ed9a3472affc button').onclick = (e) => {\n",
              "        document.querySelector('#id-b983b21b-2582-4f2e-9a65-ed9a3472affc').classList.toggle('show_array');\n",
              "        index = (++index) % 2;\n",
              "        document.querySelector('#id-b983b21b-2582-4f2e-9a65-ed9a3472affc button').textContent = titles[index];\n",
              "        e.preventDefault();\n",
              "        e.stopPropagation();\n",
              "      }\n",
              "      })();\n",
              "    </script>"
            ]
          },
          "metadata": {},
          "execution_count": 7
        }
      ]
    },
    {
      "cell_type": "code",
      "source": [
        "image = np.zeros((512, 512, 3), dtype=\"uint8\")\n",
        "cv2.putText(image, 'APEKSHA', (100, 250), cv2.FONT_HERSHEY_SIMPLEX, 2, (255, 255, 255), 5)\n",
        "cv2_imshow(image)"
      ],
      "metadata": {
        "colab": {
          "base_uri": "https://localhost:8080/",
          "height": 529
        },
        "id": "m7F1VPnd_FLA",
        "outputId": "74933328-5182-4687-b4ad-6f31a2036b31"
      },
      "execution_count": null,
      "outputs": [
        {
          "output_type": "display_data",
          "data": {
            "text/plain": [
              "<PIL.Image.Image image mode=RGB size=512x512>"
            ],
            "image/png": "[encoded data removed]"
          },
          "metadata": {}
        }
      ]
    },
    {
      "cell_type": "code",
      "source": [
        "import cv2\n",
        "import numpy as np\n",
        "\n",
        "# Create a black image\n",
        "image = np.zeros((512, 512, 3), np.uint8)\n",
        "\n",
        "# Define points of the polygon (a triangle, for example)\n",
        "points = np.array([[100, 200], [300, 200], [200, 400]], np.int32)\n",
        "points = points.reshape((-1, 1, 2))\n",
        "\n",
        "# Draw the polyline with white color\n",
        "cv2.polylines(image, [points], isClosed= True, color=(255, 255, 255), thickness= 50)\n",
        "\n",
        "# Display using matplotlib\n",
        "import matplotlib.pyplot as plt\n",
        "image_rgb = cv2.cvtColor(image, cv2.COLOR_BGR2RGB)\n",
        "plt.imshow(image_rgb)\n",
        "plt.axis('off')\n",
        "plt.show()\n"
      ],
      "metadata": {
        "colab": {
          "base_uri": "https://localhost:8080/",
          "height": 406
        },
        "id": "RQv_OcgLaBwL",
        "outputId": "08f781e1-e1d2-4e67-a92e-6a82aa0d0b13"
      },
      "execution_count": null,
      "outputs": [
        {
          "output_type": "display_data",
          "data": {
            "text/plain": [
              "<Figure size 640x480 with 1 Axes>"
            ],
            "image/png": "[encoded data removed]"
          },
          "metadata": {}
        }
      ]
    }
  ]
}