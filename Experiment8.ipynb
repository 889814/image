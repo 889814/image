{
  "nbformat": 4,
  "nbformat_minor": 0,
  "metadata": {
    "colab": {
      "provenance": []
    },
    "kernelspec": {
      "name": "python3",
      "display_name": "Python 3"
    },
    "language_info": {
      "name": "python"
    }
  },
  "cells": [
    {
      "cell_type": "markdown",
      "source": [
        "Name: Apeksha Hrishikesh Sharma\n",
        "\n",
        "Roll no.: L010\n",
        "\n",
        "SAP id.: 40778230013\n",
        "\n",
        "# Experiment 8:  Smart surveillance and tracking\n",
        "\n",
        "**Aim:**\n",
        "\n",
        "To perform Smart surveillance and tracking"
      ],
      "metadata": {
        "id": "VilwBKcDUxMz"
      }
    },
    {
      "cell_type": "code",
      "source": [
        "import cv2\n",
        "\n",
        "face_cascade = cv2.CascadeClassifier(cv2.data.haarcascades + 'haarcascade_frontalface_default.xml')\n",
        "cap = cv2.VideoCapture(0)\n",
        "fourcc = cv2.VideoWriter_fourcc(*'XVID')\n",
        "out = cv2.VideoWriter('C:\\\\Users\\\\Lalit\\\\OneDrive\\\\Desktop\\\\output.mp4', fourcc, 20.0, (640, 480))\n",
        "\n",
        "while True:\n",
        "    ret, frame = cap.read()\n",
        "    gray = cv2.cvtColor(frame, cv2.COLOR_BGR2GRAY)\n",
        "    faces = face_cascade.detectMultiScale(gray, 1.3, 5)\n",
        "\n",
        "    # Draw rectangles around detected faces\n",
        "    for (x, y, w, h) in faces:\n",
        "        cv2.rectangle(frame, (x, y), (x + w, y + h), (255, 0, 0), 2)\n",
        "\n",
        "    out.write(frame)\n",
        "    cv2.imshow('Face Detection', frame)\n",
        "\n",
        "    # Break the loop on 'q' key press\n",
        "    if cv2.waitKey(1) & 0xFF == ord('q'):\n",
        "        break\n",
        "\n",
        "cap.release()\n",
        "out.release()\n",
        "cv2.destroyAllWindows()"
      ],
      "metadata": {
        "id": "193mqoaO2feG"
      },
      "execution_count": null,
      "outputs": []
    }
  ]
}
